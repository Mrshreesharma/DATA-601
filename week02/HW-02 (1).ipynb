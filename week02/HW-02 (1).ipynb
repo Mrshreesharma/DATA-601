{
 "cells": [
  {
   "cell_type": "markdown",
   "source": [
    "## Homework 2\n",
    "\n",
    "Please complete the functions below. These functions are for to simulate a fair and a biased die. \n",
    "\n",
    "The biased die has probabilities {0.25, 0.15, 0.15, 0.15, 0.15, 0.15}.\n",
    "\n",
    "Create 2 visualizations that shows outcomes of multiple rolls of a fair die and biased die. \n",
    "* Visualization for fair die\n",
    "* Visualization for biased die\n",
    "\n",
    "Repeat the process programatically and take the mean to create a new list. This list will be used to compare means of biased & unbiased dice. \n",
    "* Create a historgram showing means of biased & unbiased die\n",
    "\n",
    "* Use subcharts\n",
    "* All visualizations must have appropriate titles.\n",
    "* There are 3 visualization and expected format is \n",
    "```\n",
    " [V1] [V2]\n",
    " [   V3  ]\n",
    " ```"
   ],
   "metadata": {}
  },
  {
   "cell_type": "code",
   "execution_count": 13,
   "source": [
    "import random \r\n",
    "import matplotlib.pyplot as plt\r\n",
    "import numpy as np\r\n",
    "\r\n",
    "trial_count = 500\r\n",
    "\r\n",
    "def fair_die_simulation(trials):                                #func for fair dice roll \r\n",
    "    \"\"\"\r\n",
    "    returns an array of randomly numbers between 1 and 6. \r\n",
    "    \"\"\"\r\n",
    "    simulations = []\r\n",
    "    options = [1,2,3,4,5,6]\r\n",
    "    for i in range(trial_count):                          #for loop for iterating through the trial count\r\n",
    "       simulations += [random.randint(1,len(options))]  # Using random.randint from random library for gererating random numbers.\r\n",
    "    return simulations\r\n",
    "fair = fair_die_simulation(trial_count)        #assigning the values to fair \r\n",
    "# print(fair_die)\r\n",
    "\r\n",
    "\r\n",
    "\r\n",
    "plt.hist(fair_die,density=True, bins=20)       ### Using matplot lib to plot the histogram ####\r\n",
    "plt.title('fair Die Simulation')\r\n",
    "plt.ylabel('counts')\r\n",
    "plt.xlabel('numbers')\r\n",
    "\r\n"
   ],
   "outputs": [
    {
     "output_type": "execute_result",
     "data": {
      "text/plain": [
       "Text(0.5, 0, 'numbers')"
      ]
     },
     "metadata": {},
     "execution_count": 13
    },
    {
     "output_type": "display_data",
     "data": {
      "image/png": "[encoded data removed]",
      "text/plain": [
       "<Figure size 432x288 with 1 Axes>"
      ]
     },
     "metadata": {
      "needs_background": "light"
     }
    }
   ],
   "metadata": {}
  },
  {
   "cell_type": "code",
   "execution_count": null,
   "source": [],
   "outputs": [],
   "metadata": {}
  },
  {
   "cell_type": "code",
   "execution_count": 2,
   "source": [
    " import numpy as np "
   ],
   "outputs": [],
   "metadata": {}
  },
  {
   "cell_type": "code",
   "execution_count": 7,
   "source": [
    "def biased_die_simuations(trials, weights=[0.25, 0.15, 0.15, 0.15, 0.15, 0.15]): #func for fair dice roll \r\n",
    "    \"\"\"\r\n",
    "    returns an array of randomly numbers between 1 and 6 with the probabilty of assosiated weight. \r\n",
    "    for instance: for weights: [0.25, 0.15, 0.15, 0.15, 0.15, 0.15]\r\n",
    "    1 has 0.25 change to be selected, 2 has 0.15 chance and so on...\r\n",
    "    \"\"\"\r\n",
    "    global options\r\n",
    "    options = [1,2,3,4,5,6]\r\n",
    "    simulations = []\r\n",
    "    for i in range(trial_count):                  #for loop for iterating through the trial count\r\n",
    "       i = random.choices(options,weights = [0.25, 0.15, 0.15, 0.15, 0.15, 0.15])[0] \r\n",
    "       simulations.append(i)                 # Using random.randint from random library for gererating random numbers.\r\n",
    "    return simulations                        ## and giving wieghts to the dice rolls ##\r\n",
    "biased =  biased_die_simuations(trial_count)  ## assigning the values to biased\r\n",
    "\r\n",
    "\r\n",
    "\r\n",
    "plt.hist(bi_die,density=True, bins=20)                 ### Using matplot lib to plot the histogram ####\r\n",
    "plt.title('Biased Die Simulation')\r\n",
    "plt.ylabel('counts')\r\n",
    "plt.xlabel('numbers')\r\n",
    "\r\n",
    "# biased_die = np.array(fair_die_simulation(trial_count))\r\n",
    "# # print(biased_die)\r\n",
    "# sns.countplot(biased_die)"
   ],
   "outputs": [
    {
     "output_type": "execute_result",
     "data": {
      "text/plain": [
       "Text(0.5, 0, 'numbers')"
      ]
     },
     "metadata": {},
     "execution_count": 7
    },
    {
     "output_type": "display_data",
     "data": {
      "image/png": "[encoded data removed]",
      "text/plain": [
       "<Figure size 432x288 with 1 Axes>"
      ]
     },
     "metadata": {
      "needs_background": "light"
     }
    }
   ],
   "metadata": {}
  },
  {
   "cell_type": "code",
   "execution_count": 41,
   "source": [
    "biased_die_mean_list = [biased.count(i)/500 for i in range(len(options))]  ## using count to make a list of all the mean values in biased #####\r\n",
    "fair_die_mean_list = [fair.count(i)/500 for i in range(len(options))]     ## same for fair ###\r\n"
   ],
   "outputs": [],
   "metadata": {}
  },
  {
   "cell_type": "code",
   "execution_count": 46,
   "source": [
    "plt.hist(fair_die_mean_list,density=True, bins=20)     ### Using matplot lib to plot the histogram ####\r\n",
    "plt.title('Fair Die Simulation')\r\n",
    "plt.ylabel('counts')\r\n",
    "plt.xlabel('numbers')"
   ],
   "outputs": [
    {
     "output_type": "execute_result",
     "data": {
      "text/plain": [
       "Text(0.5, 0, 'numbers')"
      ]
     },
     "metadata": {},
     "execution_count": 46
    },
    {
     "output_type": "display_data",
     "data": {
      "image/png": "[encoded data removed]",
      "text/plain": [
       "<Figure size 432x288 with 1 Axes>"
      ]
     },
     "metadata": {
      "needs_background": "light"
     }
    }
   ],
   "metadata": {}
  },
  {
   "cell_type": "code",
   "execution_count": 42,
   "source": [
    "\r\n",
    "plt.hist(biased_die_mean_list,density=True, bins=20)       ### Using matplot lib to plot the histogram ####\r\n",
    "plt.title('Biased Die Simulation')\r\n",
    "plt.ylabel('counts')\r\n",
    "plt.xlabel('numbers')"
   ],
   "outputs": [
    {
     "output_type": "execute_result",
     "data": {
      "text/plain": [
       "Text(0.5, 0, 'numbers')"
      ]
     },
     "metadata": {},
     "execution_count": 42
    },
    {
     "output_type": "display_data",
     "data": {
      "image/png": "[encoded data removed]",
      "text/plain": [
       "<Figure size 432x288 with 1 Axes>"
      ]
     },
     "metadata": {
      "needs_background": "light"
     }
    }
   ],
   "metadata": {}
  },
  {
   "cell_type": "code",
   "execution_count": 45,
   "source": [
    "print('mean of unfair die')\r\n",
    "for i in range(1,6):\r\n",
    "    print(biased.count(i)/500)                        #### printing values of means of unfair and fair dice ####\r\n",
    "    \r\n",
    "\r\n",
    "print('mean of fair die')\r\n",
    "for s in range(1,6):\r\n",
    "    print(fair.count(s)/500)\r\n",
    "\r\n",
    "n_bins = [1,2,3,4,5,6]                                  ### Using matplot lib to plot the histogram ####\r\n",
    "plt.figure() \r\n",
    "plt.subplot(2,2,1)                                       ### calling  Subplot from matplot lib ###\r\n",
    "plt.plot(fair_die_mean_list, n_bins , 'bo')            \r\n",
    "plt.plot(fair_die_mean_list, n_bins , 'k')\r\n",
    "\r\n",
    "plt.subplot(2,2,2)\r\n",
    "plt.plot(biased_die_mean_list, n_bins , 'bo')\r\n",
    "plt.plot(biased_die_mean_list, n_bins , 'k')\r\n",
    "\r\n",
    "plt.subplot(2,2,(3,4))\r\n",
    "plt.plot(biased_die_mean_list, fair_die_mean_list , 'bo')\r\n",
    "plt.plot(biased_die_mean_list, fair_die_mean_list , 'k')"
   ],
   "outputs": [
    {
     "output_type": "stream",
     "name": "stdout",
     "text": [
      "mean of unfair die\n",
      "0.278\n",
      "0.148\n",
      "0.164\n",
      "0.134\n",
      "0.146\n",
      "mean of fair die\n",
      "0.146\n",
      "0.194\n",
      "0.178\n",
      "0.15\n",
      "0.17\n"
     ]
    },
    {
     "output_type": "execute_result",
     "data": {
      "text/plain": [
       "[<matplotlib.lines.Line2D at 0x20397a323d0>]"
      ]
     },
     "metadata": {},
     "execution_count": 45
    },
    {
     "output_type": "display_data",
     "data": {
      "image/png": "[encoded data removed]",
      "text/plain": [
       "<Figure size 432x288 with 3 Axes>"
      ]
     },
     "metadata": {
      "needs_background": "light"
     }
    }
   ],
   "metadata": {}
  }
 ],
 "metadata": {
  "kernelspec": {
   "display_name": "Python 3",
   "language": "python",
   "name": "python3"
  },
  "language_info": {
   "codemirror_mode": {
    "name": "ipython",
    "version": 3
   },
   "file_extension": ".py",
   "mimetype": "text/x-python",
   "name": "python",
   "nbconvert_exporter": "python",
   "pygments_lexer": "ipython3",
   "version": "3.8.3"
  },
  "toc": {
   "base_numbering": 1,
   "nav_menu": {},
   "number_sections": true,
   "sideBar": true,
   "skip_h1_title": false,
   "title_cell": "Table of Contents",
   "title_sidebar": "Contents",
   "toc_cell": false,
   "toc_position": {},
   "toc_section_display": true,
   "toc_window_display": false
  }
 },
 "nbformat": 4,
 "nbformat_minor": 5
}