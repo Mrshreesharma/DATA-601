{
 "cells": [
  {
   "cell_type": "markdown",
   "metadata": {
    "id": "hl3pVnDDs6Se"
   },
   "source": [
    "# Rules\n",
    "\n",
    "- We will grade only the answer cells, so make sure that you type your answer inside of the answer cell. \n",
    "\n",
    "- Make sure that your code is working when you restart the kernel. Notebooks are great tools for exploration but we should be very careful as we are writing codes. For more, please check: [Why notebooks suck](https://towardsdatascience.com/5-reasons-why-jupyter-notebooks-suck-4dc201e27086)\n",
    "\n",
    "- Make sure that your results are in the correct format. If we ask you to return a list, your answer should be in a list format. If the question asks you to return a scalar (float, int, etc.) then make sure that your answer is in the correct format.\n",
    "\n",
    "## Homework\n",
    "\n",
    "1. Correct the formatting of markdown cells\n",
    "    * Use appropriate headers\n",
    "1. Finish the coding sections."
   ]
  },
  {
   "cell_type": "markdown",
   "metadata": {
    "id": "Tur9zoV6qB4I"
   },
   "source": [
    "## Question-1\n",
    "\n",
    "\n",
    "Write a Python function to return a **list** of all the numbers from 1 to n which are divisible by 5. `n` will be given as an argument to your function.\n"
   ]
  },
  {
   "cell_type": "code",
   "execution_count": 1,
   "metadata": {
    "id": "bBH79NeVs1m1"
   },
   "outputs": [
    {
     "data": {
      "text/plain": [
       "[5,\n",
       " 10,\n",
       " 15,\n",
       " 20,\n",
       " 25,\n",
       " 30,\n",
       " 35,\n",
       " 40,\n",
       " 45,\n",
       " 50,\n",
       " 55,\n",
       " 60,\n",
       " 65,\n",
       " 70,\n",
       " 75,\n",
       " 80,\n",
       " 85,\n",
       " 90,\n",
       " 95,\n",
       " 100,\n",
       " 105,\n",
       " 110,\n",
       " 115,\n",
       " 120]"
      ]
     },
     "execution_count": 1,
     "metadata": {},
     "output_type": "execute_result"
    }
   ],
   "source": [
    "# Your Answer Cell\n",
    "# you can edit the function below. \n",
    "# Don't change function name and parameter names.\n",
    "# you can define new variables inside of the function.\n",
    "\n",
    "def divisible_five(given_number):\n",
    "    \n",
    "    my_list = []\n",
    "    for i in range(1,given_number + 1):\n",
    "        if i % 5== 0:\n",
    "            my_list.append(i)\n",
    "    return my_list\n",
    "\n",
    "divisible_five(121)\n",
    "\n"
   ]
  },
  {
   "cell_type": "markdown",
   "metadata": {
    "id": "9DpQ6X0io0If"
   },
   "source": [
    "## Question-2\n",
    "\n",
    "Write a function that returns the sum of all the multiples of 3 or 7 below a given number.\n"
   ]
  },
  {
   "cell_type": "code",
   "execution_count": 2,
   "metadata": {
    "id": "rmYpunGwp-bq"
   },
   "outputs": [
    {
     "data": {
      "text/plain": [
       "21426429"
      ]
     },
     "execution_count": 2,
     "metadata": {},
     "output_type": "execute_result"
    }
   ],
   "source": [
    "# Your Answer Cell\n",
    "# you can edit the function below. \n",
    "# Don't change function name and parameter names.\n",
    "# you can define new variables inside of the function.\n",
    "\n",
    "def my_function(given_number):\n",
    "    sum = 0\n",
    "    for i in range(1, given_number +1):\n",
    "        if (i % 3 == 0 or i % 7 == 0 ):\n",
    "            sum += i;\n",
    "    return sum\n",
    "\n",
    "\n",
    "## your answer above\n",
    "\n",
    "my_function(10000)"
   ]
  },
  {
   "cell_type": "markdown",
   "metadata": {
    "id": "inGr4AOovJhj"
   },
   "source": [
    "# Question-3 (Shell & Magic Commands)\n"
   ]
  },
  {
   "cell_type": "markdown",
   "metadata": {
    "id": "54izIMcAwgud"
   },
   "source": [
    "## Question-3-a\n",
    "\n",
    "Below print current working directory."
   ]
  },
  {
   "cell_type": "code",
   "execution_count": 9,
   "metadata": {
    "id": "0O27azQfvZjv"
   },
   "outputs": [
    {
     "data": {
      "text/plain": [
       "'C:\\\\Users\\\\Dell'"
      ]
     },
     "execution_count": 9,
     "metadata": {},
     "output_type": "execute_result"
    }
   ],
   "source": [
    "## Answer Cell \n",
    "import os\n",
    "os.getcwd()\n",
    "\n"
   ]
  },
  {
   "cell_type": "markdown",
   "metadata": {
    "id": "lDzXCiGnvbMO"
   },
   "source": [
    "## Question-3-b\n",
    "\n",
    "Below list all the files and folders in the current working directory."
   ]
  },
  {
   "cell_type": "code",
   "execution_count": 10,
   "metadata": {
    "id": "SHnZDzFZwUeB"
   },
   "outputs": [
    {
     "name": "stdout",
     "output_type": "stream",
     "text": [
      " Volume in drive C has no label.\n",
      " Volume Serial Number is EA29-B998\n",
      "\n",
      " Directory of C:\\Users\\Dell\n",
      "\n",
      "15-09-2021  14:40    <DIR>          .\n",
      "15-09-2021  14:40    <DIR>          ..\n",
      "09-11-2020  03:50    <DIR>          .anaconda\n",
      "07-09-2021  13:49    <DIR>          .conda\n",
      "06-09-2021  17:13                43 .condarc\n",
      "14-09-2021  21:04    <DIR>          .ipynb_checkpoints\n",
      "09-11-2020  04:02    <DIR>          .ipython\n",
      "12-09-2021  20:26    <DIR>          .jupyter\n",
      "05-12-2020  06:15    <DIR>          .matplotlib\n",
      "08-05-2021  15:37    <DIR>          3D Objects\n",
      "13-09-2021  17:00    <DIR>          690 Sunela Thomas\n",
      "09-11-2020  04:03    <DIR>          AAIC\n",
      "09-11-2020  04:17    <DIR>          anaconda3\n",
      "08-01-2021  09:42    <DIR>          Applied AI COurse\n",
      "09-11-2020  04:05    <DIR>          APPLIEDAI\n",
      "10-01-2021  06:07    <DIR>          ASSIGNMENTS MANDATORY\n",
      "08-05-2021  15:37    <DIR>          Contacts\n",
      "15-09-2021  14:38    <DIR>          Content\n",
      "14-09-2021  18:05    <DIR>          data\n",
      "13-09-2021  18:31    <DIR>          Desktop\n",
      "08-09-2021  16:03    <DIR>          Documents\n",
      "13-09-2021  18:30    <DIR>          Downloads\n",
      "08-05-2021  15:37    <DIR>          Favorites\n",
      "15-09-2021  14:40            11,088 HW-01.ipynb\n",
      "08-05-2021  15:37    <DIR>          Links\n",
      "26-05-2021  08:54        34,445,126 movies_metadata.csv\n",
      "08-05-2021  15:37    <DIR>          Music\n",
      "15-09-2021  14:38    <DIR>          my_directory\n",
      "31-07-2021  03:52    <DIR>          OneDrive\n",
      "12-05-2021  02:26    <DIR>          Pictures\n",
      "08-05-2021  15:37    <DIR>          Saved Games\n",
      "08-05-2021  15:37    <DIR>          Searches\n",
      "13-09-2021  17:01            16,477 Sharma-Shree- Assignment 1.ipynb\n",
      "08-09-2021  15:54             3,279 summary\n",
      "07-09-2021  10:01                72 Summary.ipynb\n",
      "02-06-2021  05:44            19,013 Untitled.ipynb\n",
      "13-09-2021  17:34               896 Untitled1.ipynb\n",
      "13-09-2021  17:26            12,503 Untitled2.ipynb\n",
      "14-09-2021  21:20             2,078 Untitled3.ipynb\n",
      "08-05-2021  15:37    <DIR>          Videos\n",
      "07-09-2021  18:52            20,196 Week 1 - 08.31.2021.ipynb\n",
      "06-09-2021  17:25            32,514 Week01.ipynb\n",
      "              12 File(s)     34,563,285 bytes\n",
      "              30 Dir(s)  103,586,570,240 bytes free\n"
     ]
    }
   ],
   "source": [
    "## Answer Cell\n",
    "!dir\n"
   ]
  },
  {
   "cell_type": "markdown",
   "metadata": {
    "id": "PT3fPRc3wWh1"
   },
   "source": [
    "## Question 3-c\n",
    "\n",
    "Create a new directory within the current working directory 'data'"
   ]
  },
  {
   "cell_type": "code",
   "execution_count": 11,
   "metadata": {
    "id": "cvhzEyZNwXdn"
   },
   "outputs": [],
   "source": [
    "## Answer Cell\n",
    "dir = os.path.join('C:\\\\Users\\\\Dell\\\\data')\n",
    "if not os.path.exists(dir):\n",
    "    os.mkdir(dir)"
   ]
  },
  {
   "cell_type": "markdown",
   "metadata": {
    "id": "bKn3RzJgwYnc"
   },
   "source": [
    "## Question-3-d\n",
    "\n",
    "Change the working directory to 'data'\n",
    "print current working directory again to make sure that your answer is correct."
   ]
  },
  {
   "cell_type": "code",
   "execution_count": 12,
   "metadata": {
    "id": "TnhNhVO3wZsl"
   },
   "outputs": [
    {
     "data": {
      "text/plain": [
       "'C:\\\\Users\\\\Dell\\\\data'"
      ]
     },
     "execution_count": 12,
     "metadata": {},
     "output_type": "execute_result"
    }
   ],
   "source": [
    "## Answer Cell\n",
    "os.chdir('C:\\\\Users\\\\Dell\\\\data')\n",
    "%pwd\n",
    "\n"
   ]
  },
  {
   "cell_type": "markdown",
   "metadata": {
    "id": "2DYjo1LqyjcW"
   },
   "source": [
    "## Question-3-e\n",
    "\n",
    "Create a new file under 'content/my_directory' and name it 'my_script.py'"
   ]
  },
  {
   "cell_type": "code",
   "execution_count": 24,
   "metadata": {
    "id": "khNRtjC6yzCf"
   },
   "outputs": [
    {
     "name": "stderr",
     "output_type": "stream",
     "text": [
      "A subdirectory or file Content already exists.\n",
      "A subdirectory or file my_directory already exists.\n"
     ]
    }
   ],
   "source": [
    "## Answer Cell\n",
    "\n",
    "!mkdir Content\n",
    "!cd Content\n",
    "!mkdir my_directory\n",
    "!cd my_directory\n",
    "\n"
   ]
  },
  {
   "cell_type": "markdown",
   "metadata": {
    "id": "OZPKFtqX1Wev"
   },
   "source": [
    "## Question-3-f\n",
    "\n",
    "Create 'my_script.py' so that it prints 'Your First Name-Your Last Name' and run this scripy in the cell below."
   ]
  },
  {
   "cell_type": "code",
   "execution_count": 23,
   "metadata": {
    "id": "n7i7G_YE1qi0"
   },
   "outputs": [
    {
     "name": "stdout",
     "output_type": "stream",
     "text": [
      "Overwriting my_script.py\n"
     ]
    }
   ],
   "source": [
    "%%writefile my_script.py\n",
    "print('Shree Sharma')\n",
    "\n",
    "\n"
   ]
  },
  {
   "cell_type": "code",
   "execution_count": 25,
   "metadata": {},
   "outputs": [
    {
     "name": "stdout",
     "output_type": "stream",
     "text": [
      "Shree Sharma\n"
     ]
    }
   ],
   "source": [
    "%run my_script.py"
   ]
  },
  {
   "cell_type": "markdown",
   "metadata": {},
   "source": [
    "## Question-4\n",
    "\n",
    "Commit & push to your repo"
   ]
  },
  {
   "cell_type": "code",
   "execution_count": 20,
   "metadata": {},
   "outputs": [
    {
     "name": "stderr",
     "output_type": "stream",
     "text": [
      "UsageError: Line magic function `%%writefile` not found.\n"
     ]
    }
   ],
   "source": [
    "## Answer Cell\n",
    "%%writefile sherlock.py"
   ]
  }
 ],
 "metadata": {
  "colab": {
   "collapsed_sections": [],
   "name": "HW-1.ipynb",
   "provenance": []
  },
  "kernelspec": {
   "display_name": "Python 3",
   "language": "python",
   "name": "python3"
  },
  "language_info": {
   "codemirror_mode": {
    "name": "ipython",
    "version": 3
   },
   "file_extension": ".py",
   "mimetype": "text/x-python",
   "name": "python",
   "nbconvert_exporter": "python",
   "pygments_lexer": "ipython3",
   "version": "3.8.3"
  },
  "toc": {
   "base_numbering": 1,
   "nav_menu": {},
   "number_sections": false,
   "sideBar": true,
   "skip_h1_title": false,
   "title_cell": "Table of Contents",
   "title_sidebar": "Contents",
   "toc_cell": false,
   "toc_position": {},
   "toc_section_display": true,
   "toc_window_display": true
  }
 },
 "nbformat": 4,
 "nbformat_minor": 1
}
